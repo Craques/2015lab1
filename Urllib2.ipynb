{
 "cells": [
  {
   "cell_type": "markdown",
   "metadata": {},
   "source": [
    "#Beautifulsoup, json and urllib2"
   ]
  },
  {
   "cell_type": "code",
   "execution_count": 37,
   "metadata": {
    "collapsed": false,
    "scrolled": true
   },
   "outputs": [
    {
     "data": {
      "text/plain": [
       "['#main-content',\n",
       " '/',\n",
       " '/promotions/category/broadband',\n",
       " '/ecocash',\n",
       " 'http://www.ewzinvestor.co.zw/',\n",
       " '/user/login',\n",
       " '/',\n",
       " '/promotions',\n",
       " '/services/overview',\n",
       " '/promotions/category/broadband',\n",
       " '/podcasts-archive',\n",
       " 'http://careers.econetwireless.com/',\n",
       " '/marathon',\n",
       " '/',\n",
       " '/about-us']"
      ]
     },
     "execution_count": 37,
     "metadata": {},
     "output_type": "execute_result"
    }
   ],
   "source": [
    "import urllib2\n",
    "import bs4\n",
    "\n",
    "url = \"https://www.econet.co.zw/\"\n",
    "x = urllib2.urlopen(url)\n",
    "data = x.read()\n",
    "x.close()\n",
    "soupdata = bs4.BeautifulSoup(data)\n",
    "y = [link.get('href') for link in soupdata.find_all('a')]\n",
    "y[0:15]"
   ]
  },
  {
   "cell_type": "markdown",
   "metadata": {},
   "source": [
    "##Json is easy to turn into dataframe"
   ]
  },
  {
   "cell_type": "code",
   "execution_count": null,
   "metadata": {
    "collapsed": true
   },
   "outputs": [],
   "source": []
  }
 ],
 "metadata": {
  "kernelspec": {
   "display_name": "Python 2",
   "language": "python",
   "name": "python2"
  },
  "language_info": {
   "codemirror_mode": {
    "name": "ipython",
    "version": 2
   },
   "file_extension": ".py",
   "mimetype": "text/x-python",
   "name": "python",
   "nbconvert_exporter": "python",
   "pygments_lexer": "ipython2",
   "version": "2.7.10"
  }
 },
 "nbformat": 4,
 "nbformat_minor": 0
}
